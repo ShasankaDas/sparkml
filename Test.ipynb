{
 "cells": [
  {
   "cell_type": "code",
   "execution_count": 636,
   "metadata": {},
   "outputs": [
    {
     "name": "stdout",
     "output_type": "stream",
     "text": [
      "<class 'pandas.core.frame.DataFrame'>\n",
      "RangeIndex: 66368 entries, 0 to 66367\n",
      "Data columns (total 10 columns):\n",
      "permalink        66368 non-null object\n",
      "name             66367 non-null object\n",
      "homepage_url     61310 non-null object\n",
      "category_list    63220 non-null object\n",
      "status           66368 non-null object\n",
      "country_code     59410 non-null object\n",
      "state_code       57821 non-null object\n",
      "region           58338 non-null object\n",
      "city             58340 non-null object\n",
      "founded_at       51147 non-null object\n",
      "dtypes: object(10)\n",
      "memory usage: 5.1+ MB\n",
      "None\n"
     ]
    }
   ],
   "source": [
    "import numpy as np\n",
    "import pandas as pd\n",
    "pd.options.display.float_format = '{:.3f}'.format\n",
    "companies = pd.read_csv(\"companies.txt\", sep=\"\\t\", encoding = \"ISO-8859-1\")\n",
    "# companies.head()\n",
    "print(companies.info())"
   ]
  },
  {
   "cell_type": "code",
   "execution_count": 51,
   "metadata": {
    "scrolled": true
   },
   "outputs": [
    {
     "name": "stdout",
     "output_type": "stream",
     "text": [
      "<class 'pandas.core.frame.DataFrame'>\n",
      "RangeIndex: 114949 entries, 0 to 114948\n",
      "Data columns (total 6 columns):\n",
      "company_permalink          114949 non-null object\n",
      "funding_round_permalink    114949 non-null object\n",
      "funding_round_type         114949 non-null object\n",
      "funding_round_code         31140 non-null object\n",
      "funded_at                  114949 non-null object\n",
      "raised_amount_usd          94959 non-null float64\n",
      "dtypes: float64(1), object(5)\n",
      "memory usage: 5.3+ MB\n",
      "None\n",
      "90247\n"
     ]
    }
   ],
   "source": [
    "rounds2 = pd.read_csv(\"rounds2.csv\", sep=\",\", encoding = \"ISO-8859-1\")\n",
    "#rounds2.head()\n",
    "print(rounds2.info())\n",
    "print(len(rounds2['company_permalink'].unique().tolist()))"
   ]
  },
  {
   "cell_type": "code",
   "execution_count": 271,
   "metadata": {},
   "outputs": [
    {
     "name": "stderr",
     "output_type": "stream",
     "text": [
      "C:\\Users\\shash\\Anaconda3\\lib\\site-packages\\ipykernel_launcher.py:53: SettingWithCopyWarning: \n",
      "A value is trying to be set on a copy of a slice from a DataFrame.\n",
      "Try using .loc[row_indexer,col_indexer] = value instead\n",
      "\n",
      "See the caveats in the documentation: http://pandas.pydata.org/pandas-docs/stable/indexing.html#indexing-view-versus-copy\n"
     ]
    }
   ],
   "source": [
    "companies['permalink'] = companies['permalink'].str.lower()\n",
    "companies['permalink'] = companies['permalink'].str.strip()\n",
    "rounds2['company_permalink'] = rounds2['company_permalink'].str.lower()\n",
    "rounds2['company_permalink'] = rounds2['company_permalink'].str.strip()\n",
    "#print(rounds2.info())\n",
    "#print(len(rounds2['company_permalink'].unique().tolist()))\n",
    "\n",
    "rounds2Companies = set(rounds2['company_permalink'])\n",
    "companiesSet = set(companies['permalink'])\n",
    "diff = rounds2Companies - companiesSet\n",
    "#print(list(diff))\n",
    "#print('Difference:', len(list(diff)))\n",
    "master_frame = pd.merge(rounds2,companies,left_on='company_permalink', right_on='permalink',how='outer')\n",
    "#print(master_frame.info())\n",
    "#print(master_frame.head())\n",
    "# **************Check point 2***************************\n",
    "\n",
    "df_by_fundingType = master_frame.groupby('funding_round_type')\n",
    "#print(round(df_by_fundingType['raised_amount_usd'].mean(),2))\n",
    "average_funding_by_funding_type = pd.DataFrame(df_by_fundingType['raised_amount_usd'].mean())\n",
    "#print(average_funding_by_funding_type.info())\n",
    "best_funding_type = average_funding_by_funding_type.loc[(average_funding_by_funding_type.raised_amount_usd >= 5000000.00) & (average_funding_by_funding_type.raised_amount_usd <=15000000.00)]\n",
    "#print(best_funding_type.info())\n",
    "\n",
    "\n",
    "\n",
    "#df_ventures = master_frame.loc[(master_frame.funding_round_type =='venture') & (master_frame.raised_amount_usd.notnull()) , ['funding_round_type', 'raised_amount_usd']]\n",
    "#round((df_ventures.raised_amount_usd.sum()/len(df_ventures.index)), 2)\n",
    "#print( round( df_ventures.raised_amount_usd.mean(),2))\n",
    "\n",
    "#df_angel = master_frame.loc[(master_frame.funding_round_type =='angel') & (master_frame.raised_amount_usd.notnull()) , ['funding_round_type', 'raised_amount_usd']]\n",
    "#print( round( df_angel.raised_amount_usd.mean(),2))\n",
    "\n",
    "#df_seed = master_frame.loc[(master_frame.funding_round_type =='seed') & (master_frame.raised_amount_usd.notnull()) , ['funding_round_type', 'raised_amount_usd']]\n",
    "#print( round( df_seed.raised_amount_usd.mean(),2))\n",
    "\n",
    "#df_private_equity = master_frame.loc[(master_frame.funding_round_type =='private_equity') & (master_frame.raised_amount_usd.notnull()) , ['funding_round_type', 'raised_amount_usd']]\n",
    "#print( round(df_private_equity.raised_amount_usd.mean(),2))\n",
    "\n",
    "# **********************check point 3 *******************\n",
    "\n",
    "df_master_best_fund = master_frame.loc[(master_frame.funding_round_type =='venture') &(master_frame.country_code.notnull() & (master_frame.raised_amount_usd.notnull())) ,['country_code','raised_amount_usd']]\n",
    "#print(df_master_best_fund)\n",
    "top9_highest_total_funding_group =  df_master_best_fund.groupby('country_code')['raised_amount_usd'].sum().nlargest(9)\n",
    "top9_highest_total_funding_country = list(top9_highest_total_funding_group.index)\n",
    "#print(top9_highest_total_funding_country)\n",
    "top9 = master_frame.loc[(master_frame.funding_round_type =='venture') &(master_frame['country_code'].isin(top9_highest_total_funding_country))]\n",
    "                        \n",
    "#print(top9.head())\n",
    "\n",
    "#print(top9.category_list)\n",
    "#pd.concat([df[[0]], df[1].str.split(', ', expand=True)], axis=1)\n",
    "top9['primary_sector'] = top9['category_list'].str.split('|', n = 2, expand = True)[0]\n",
    "#print(top9.primary_sector)\n",
    "#print( top9[(top9.primary_sector.isnull())].primary_sector)\n",
    "\n",
    "#******************Check point 4 *****************\n",
    "\n",
    "df_mapping = pd.read_csv(\"mapping.csv\", sep=\",\", encoding = \"ISO-8859-1\")\n",
    "#df_mapping = df_mapping.loc[(df_mapping.category_list.notnull())]\n",
    "df_mapping = pd.melt(df_mapping, id_vars=['category_list'])\n",
    "#print(df_mapping[(df_mapping.variable=='Blanks')].iloc[0])\n",
    "\n",
    "df_mapping = df_mapping[(df_mapping.value ==1)]\n",
    "#drop value column and rename category_list and variable to primary_sector and main sector\n",
    "df_mapping.drop('value', axis = 1, inplace = True)\n",
    "df_mapping.rename(columns={'category_list':'primary_sector', 'variable':'main_sector'}, inplace = True)\n",
    "#print(df_mapping)\n",
    "\n",
    "\n",
    "# merging maping and top9 df\n",
    "#using left join to retain all records of top9\n",
    "top9 = pd.merge(top9, df_mapping, how = 'left', on = 'primary_sector')\n",
    "#print(top9)\n",
    "\n",
    "# clean data\n",
    "\n",
    "# map all null main sector to others\n",
    "top9.loc[(top9['main_sector'].isnull(),['main_sector'])] = 'Others'\n",
    "#print(len(top9[top9['main_sector'].isnull()]))\n",
    "#print(top9)\n",
    "\n",
    "df_D1 = top9.loc[(top9.country_code == 'USA') & (( top9.funding_round_type=='venture')&(top9.raised_amount_usd >= 5000000.00) & (top9.raised_amount_usd <=15000000.00))]\n",
    "df_D2 = top9.loc[(top9.country_code == 'GBR') & (( top9.funding_round_type=='venture')&(top9.raised_amount_usd >= 5000000.00) & (top9.raised_amount_usd <=15000000.00))]\n",
    "df_D3 = top9.loc[(top9.country_code == 'IND') & (( top9.funding_round_type=='venture')&(top9.raised_amount_usd >= 5000000.00) & (top9.raised_amount_usd <=15000000.00))]\n",
    "\n",
    "\n",
    "\n",
    "df_D1_by_sector = df_D1.groupby('main_sector')['raised_amount_usd'].agg(('sum','count'))\n",
    "df_D1_by_sector.rename(columns={'sum':'Sum of Investment','count':'Count of Investment'}, inplace=True)\n",
    "df_D1 = pd.merge(df_D1,df_D1_by_sector,on='main_sector')\n",
    "#print(df_D1_by_sector)\n",
    "\n",
    "df_D2_by_sector = df_D2.groupby('main_sector')['raised_amount_usd'].agg(('sum','count'))\n",
    "df_D2_by_sector.rename(columns={'sum':'Sum of Investment','count':'Count of Investment'}, inplace=True)\n",
    "df_D2 = pd.merge(df_D2,df_D2_by_sector,on='main_sector')\n",
    "\n",
    "#print(df_D2)\n",
    "\n",
    "df_D3_by_sector = df_D3.groupby('main_sector')['raised_amount_usd'].agg(('sum','count'))\n",
    "df_D3_by_sector.rename(columns={'sum':'Sum of Investment','count':'Count of Investment'}, inplace=True)\n",
    "df_D3 = pd.merge(df_D3,df_D3_by_sector,on='main_sector')\n",
    "\n",
    "#print(df_D3)\n",
    "\n",
    "# concatinating d1, d2 and d3\n",
    "top3 = pd.concat([df_D1, df_D2, df_D3], axis = 0, ignore_index = True, sort = False)\n",
    "#print(top3)\n",
    "#Total number of Investments (count)\n",
    "#top3.groupby('country_code')['raised_amount_usd'].count()\n",
    "\n",
    "#Total amount of investment (USD)\n",
    "#top3.groupby('country_code')['raised_amount_usd'].sum()\n",
    "\n",
    "#Top Sector name (no. of investment-wise)\n",
    "top3.groupby(['country_code','main_sector'])['main_sector'].count()\n",
    "#top3.groupby(['country_code','main_sector'])['main_sector'].sum()\n",
    "\n",
    "#For point 3 (top sector count-wise), which company received the highest investment?\n",
    "highest_investment_c1 = top3.loc[(top3.country_code == 'USA')& (top3.main_sector == 'Cleantech / Semiconductors')]\n",
    "highest_investment_c1_company = highest_investment_c1.groupby(['permalink','name']).raised_amount_usd.sum().sort_values(ascending = False);\n",
    "#print(highest_investment_c1_company)\n",
    "\n",
    "\n",
    "highest_investment_c2_company = pd.DataFrame(top3.loc[(top3.country_code == 'GBR')& (top3.main_sector == 'Social, Finance, Analytics, Advertising')].groupby(['permalink','name']).raised_amount_usd.sum().sort_values(ascending = False))\n",
    "#print(highest_investment_c2_company)\n",
    "\n",
    "highest_investment_c3_company = pd.DataFrame(top3.loc[(top3.country_code == 'IND')& (top3.main_sector == 'Social, Finance, Analytics, Advertising')].groupby(['permalink','name']).raised_amount_usd.sum().sort_values(ascending = False))\n",
    "#print(highest_investment_c3_company)\n"
   ]
  },
  {
   "cell_type": "code",
   "execution_count": 415,
   "metadata": {},
   "outputs": [
    {
     "name": "stdout",
     "output_type": "stream",
     "text": [
      "   funding_round_type  Sum of Investment  Mean of Investment\n",
      "8      private_equity   141925436105.000        73308593.029\n",
      "11               seed    16989864181.000          719817.997\n",
      "13            venture   590126216876.000        11748949.129\n",
      "0           Remaining   241083567973.000               0.000\n"
     ]
    }
   ],
   "source": [
    "# Plot your chart here \n",
    "total_inv_by_fund_type = master_frame.groupby('funding_round_type', as_index=False)['raised_amount_usd'].sum()\n",
    "total_inv_by_fund_type.rename(columns={'raised_amount_usd':'Sum of Investment'}, inplace=True)\n",
    "#print(total_inv_by_fund_type)\n",
    "\n",
    "avg_inv_by_fund_type = master_frame.groupby('funding_round_type', as_index=False)['raised_amount_usd'].mean()\n",
    "avg_inv_by_fund_type.rename(columns={'raised_amount_usd':'Mean of Investment'}, inplace=True)\n",
    "#print(avg_inv_by_fund_type)\n",
    "\n",
    "\n",
    "\n",
    "fund_type = pd.merge(total_inv_by_fund_type, avg_inv_by_fund_type, on='funding_round_type')\n",
    "fund_type2 = fund_type.loc[(~fund_type.funding_round_type.isin(['venture','seed','private_equity']))]\n",
    "fund_type = fund_type.loc[(fund_type.funding_round_type.isin(['venture','seed','private_equity']))]\n",
    "fund_type = fund_type.append([{'funding_round_type':'Remaining','Sum of Investment': fund_type2['Sum of Investment'].sum(),'Mean of Investment':0}])\n",
    "#print(fund_type2)\n",
    "#print(fund_type)\n",
    "\n",
    "\n",
    "\n",
    "\n"
   ]
  },
  {
   "cell_type": "code",
   "execution_count": 414,
   "metadata": {},
   "outputs": [
    {
     "data": {
      "image/png": "[encoded data removed]",
      "text/plain": [
       "<Figure size 432x288 with 2 Axes>"
      ]
     },
     "metadata": {},
     "output_type": "display_data"
    }
   ],
   "source": [
    "import matplotlib.pyplot as plt\n",
    "# Data to plot\n",
    "labels = fund_type.funding_round_type \n",
    "sizes = list(fund_type['Sum of Investment'])\n",
    "\n",
    "sizes1 = list(fund_type['Mean of Investment'])[0:-1]\n",
    "labels1 = list(fund_type.funding_round_type)[0:-1]\n",
    "#colors = ['gold', 'yellowgreen', 'lightcoral',]\n",
    "#explode = (0, 0.1, 0, 0)  # explode 1st slice\n",
    " \n",
    "# Plot\n",
    "plt.subplot(121)\n",
    "plt.pie(sizes, labels=labels,autopct='%1.0f%%',\n",
    "        shadow=True)\n",
    " \n",
    "#plt.axis('equal')\n",
    "\n",
    "plt.subplot(122)\n",
    "plt.pie(sizes1, labels=labels1,autopct='%1.0f%%',shadow=True)\n",
    " \n",
    "plt.axis('equal')\n",
    "\n",
    "\n",
    "\n",
    "plt.show()\n",
    "\n",
    "\n"
   ]
  },
  {
   "cell_type": "code",
   "execution_count": 635,
   "metadata": {
    "scrolled": true
   },
   "outputs": [
    {
     "data": {
      "image/png": "[encoded data removed]",
      "text/plain": [
       "<Figure size 432x288 with 1 Axes>"
      ]
     },
     "metadata": {
      "needs_background": "light"
     },
     "output_type": "display_data"
    }
   ],
   "source": [
    "plot_top9 = top9.loc[(top9.funding_round_type == 'venture')]\n",
    "plot_top9 = plot_top9.groupby('country_code',as_index=False).raised_amount_usd.sum()\n",
    "#print(plot_top9)\n",
    "\n",
    "objects = plot_top9.country_code\n",
    "y_pos = np.arange(len(objects))\n",
    "performance = list( plot_top9.raised_amount_usd)\n",
    "colors =  ['blue', 'orange', 'green', 'red', 'purple', 'brown', 'pink', 'gray','cyan']\n",
    "plt.bar(y_pos, performance, color=colors, align='center', alpha=0.5)\n",
    "plt.xticks(y_pos, objects)\n",
    "plt.ylabel('Amounts')\n",
    "plt.title('Top 9 Countries and Investments')\n",
    "\n",
    "for i, v in enumerate(plot_top9.raised_amount_usd):\n",
    "    plt.text(i, v, \" \"+str( round(v/100000000000,2)), color='blue', va='center', fontweight='bold')\n",
    "\n",
    "\n",
    "plt.show()"
   ]
  },
  {
   "cell_type": "code",
   "execution_count": 612,
   "metadata": {},
   "outputs": [
    {
     "name": "stdout",
     "output_type": "stream",
     "text": [
      "  country_code                 main_sector  count\n",
      "0          GBR  Cleantech / Semiconductors    127\n",
      "1          IND  Cleantech / Semiconductors     20\n",
      "2          USA  Cleantech / Semiconductors   2297\n",
      "3          GBR                      Others    187\n",
      "4          IND                      Others    138\n",
      "5          USA                      Others   3838\n",
      "6          GBR  News, Search and Messaging     73\n",
      "7          IND  News, Search and Messaging     52\n",
      "8          USA  News, Search and Messaging   1563\n"
     ]
    }
   ],
   "source": [
    "top3_country_sectors = pd.DataFrame(top3.groupby(['country_code','main_sector'], as_index=False).permalink.count())\n",
    "top3_country_sectors.rename(columns={'permalink':'count'}, inplace=True)\n",
    "top3_country1_top_sector = (top3_country_sectors.loc[(top3_country_sectors.main_sector ==\"Cleantech / Semiconductors\")])\n",
    "top3_country2_top_sector = (top3_country_sectors.loc[(top3_country_sectors.main_sector ==\"Others\")])\n",
    "top3_country3_top_sector = (top3_country_sectors.loc[(top3_country_sectors.main_sector ==\"News, Search and Messaging\")])\n",
    "top3_sector_by_country = pd.concat([top3_country1_top_sector,top3_country2_top_sector,top3_country3_top_sector], ignore_index=True)\n",
    "\n",
    "#top3_country_sectors.sort_values('count',ascending=False)\n",
    "print(top3_sector_by_country)"
   ]
  },
  {
   "cell_type": "code",
   "execution_count": 627,
   "metadata": {},
   "outputs": [
    {
     "data": {
      "image/png": "[encoded data removed]",
      "text/plain": [
       "<Figure size 432x288 with 1 Axes>"
      ]
     },
     "metadata": {
      "needs_background": "light"
     },
     "output_type": "display_data"
    }
   ],
   "source": [
    "import numpy as np\n",
    "import matplotlib.pyplot as plt\n",
    "\n",
    "usa = list(top3_sector_by_country.loc[(top3_sector_by_country.country_code =='USA'),'count'])\n",
    "gbr = top3_sector_by_country.loc[(top3_sector_by_country.country_code =='GBR'),'count']\n",
    "india = top3_sector_by_country.loc[(top3_sector_by_country.country_code =='IND'),'count']\n",
    "\n",
    "\n",
    "ind = np.arange(len(usa))  # the x locations for the groups\n",
    "width = 0.27  # the width of the bars\n",
    "\n",
    "fig, ax = plt.subplots()\n",
    "rects1 = ax.bar(ind , usa, width, \n",
    "                color='r', label='USA')\n",
    "rects2 = ax.bar(ind + width, gbr, width, \n",
    "                color='g', label='GBR')\n",
    "\n",
    "rects3 = ax.bar(ind + width*2,india , width, \n",
    "                color='b', label='IND')\n",
    "\n",
    "# Add some text for labels, title and custom x-axis tick labels, etc.\n",
    "ax.set_ylabel('Count')\n",
    "ax.set_title('Count by Country')\n",
    "ax.set_xticks(ind)\n",
    "ax.set_xticklabels(top3_sector_by_country.main_sector.unique().tolist())\n",
    "ax.legend(bbox_to_anchor=(1, 0.5))\n",
    "\n",
    "\n",
    "def autolabel(rects, xpos='center'):\n",
    "    xpos = xpos.lower()  \n",
    "    ha = {'center': 'center', 'right': 'left', 'left': 'right'}\n",
    "    offset = {'center': 0.5, 'right': 0.57, 'left': 0.43} \n",
    "\n",
    "    for rect in rects:\n",
    "        height = rect.get_height()\n",
    "        ax.text(rect.get_x() + rect.get_width()*offset[xpos], 1.01*height,\n",
    "                '{}'.format(height), ha=ha[xpos], va='bottom')\n",
    "\n",
    "\n",
    "autolabel(rects1, \"left\")\n",
    "autolabel(rects2, \"right\")\n",
    "autolabel(rects3, \"right\")\n",
    "plt.show()"
   ]
  },
  {
   "cell_type": "code",
   "execution_count": 571,
   "metadata": {},
   "outputs": [
    {
     "data": {
      "text/plain": [
       "0"
      ]
     },
     "execution_count": 571,
     "metadata": {},
     "output_type": "execute_result"
    }
   ],
   "source": [
    "len(top9[top9['main_sector'].isnull()])"
   ]
  },
  {
   "cell_type": "code",
   "execution_count": 28,
   "metadata": {},
   "outputs": [
    {
     "name": "stdout",
     "output_type": "stream",
     "text": [
      "66370\n"
     ]
    }
   ],
   "source": [
    "rounds2UniqeCompanies = (rounds2.groupby(rounds2['company_permalink'].str.lower(), as_index=False, sort=False))\n",
    "print(len(rounds2UniqeCompanies))"
   ]
  },
  {
   "cell_type": "code",
   "execution_count": 31,
   "metadata": {},
   "outputs": [
    {
     "name": "stdout",
     "output_type": "stream",
     "text": [
      "66368\n"
     ]
    }
   ],
   "source": [
    "print(len(companies['permalink'].unique().tolist()))"
   ]
  },
  {
   "cell_type": "code",
   "execution_count": 32,
   "metadata": {},
   "outputs": [
    {
     "name": "stdout",
     "output_type": "stream",
     "text": [
      "66368\n"
     ]
    }
   ],
   "source": [
    "uniqeCompanies = (companies.groupby(companies['permalink'].str.lower(), as_index=False, sort=False))\n",
    "print(len(uniqeCompanies))"
   ]
  },
  {
   "cell_type": "code",
   "execution_count": null,
   "metadata": {},
   "outputs": [],
   "source": []
  }
 ],
 "metadata": {
  "kernelspec": {
   "display_name": "Python 3",
   "language": "python",
   "name": "python3"
  },
  "language_info": {
   "codemirror_mode": {
    "name": "ipython",
    "version": 3
   },
   "file_extension": ".py",
   "mimetype": "text/x-python",
   "name": "python",
   "nbconvert_exporter": "python",
   "pygments_lexer": "ipython3",
   "version": "3.7.1"
  }
 },
 "nbformat": 4,
 "nbformat_minor": 2
}
